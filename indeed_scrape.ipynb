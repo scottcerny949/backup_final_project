{
 "cells": [
  {
   "cell_type": "code",
   "execution_count": null,
   "metadata": {},
   "outputs": [],
   "source": [
    "# The indeed URL format is the following:\n",
    "# https://www.indeed.com/jobs?q=data%20analyst&l=California&start=0\n",
    "# https://www.indeed.com/jobs?q=data%20analyst&l=California&start=10\n",
    "# https://www.indeed.com/jobs?q=data%20analyst&l=California&start=20\n",
    "# etc."
   ]
  },
  {
   "cell_type": "code",
   "execution_count": 1,
   "metadata": {},
   "outputs": [],
   "source": [
    "import requests\n",
    "import bs4\n",
    "from bs4 import BeautifulSoup as bs\n",
    "import pandas as pd\n",
    "from splinter import Browser\n",
    "import os\n",
    "from webdriver_manager.chrome import ChromeDriverManager\n",
    "import time"
   ]
  },
  {
   "cell_type": "code",
   "execution_count": null,
   "metadata": {},
   "outputs": [],
   "source": [
    "# executable_path = {'executable_path': ChromeDriverManager().install()}\n",
    "# browser = Browser('chrome', **executable_path, headless=False)"
   ]
  },
  {
   "cell_type": "code",
   "execution_count": 2,
   "metadata": {},
   "outputs": [],
   "source": [
    "URL = \"https://www.indeed.com/jobs?q=data%20analyst&l=California&start=0\""
   ]
  },
  {
   "cell_type": "code",
   "execution_count": null,
   "metadata": {},
   "outputs": [],
   "source": [
    "# browser.visit(URL)"
   ]
  },
  {
   "cell_type": "code",
   "execution_count": 3,
   "metadata": {},
   "outputs": [],
   "source": [
    "page = requests.get(URL)\n",
    "soup = bs(page.text, \"html.parser\")"
   ]
  },
  {
   "cell_type": "markdown",
   "metadata": {},
   "source": [
    "### Job Title"
   ]
  },
  {
   "cell_type": "code",
   "execution_count": 4,
   "metadata": {
    "scrolled": true
   },
   "outputs": [
    {
     "data": {
      "text/plain": [
       "['Product Data Analyst',\n",
       " 'Data Analyst I',\n",
       " 'Pharmacy Business Analyst',\n",
       " 'Data Analyst needed ASAP!!',\n",
       " 'Data Analyst (Full Time) United States',\n",
       " 'Analyst, Data & Reporting',\n",
       " 'SQL Data Analyst',\n",
       " 'Data Analyst',\n",
       " 'Junior Data Analyst',\n",
       " 'YMCA CSS Research & Data Analyst',\n",
       " 'Jr. Data Analyst',\n",
       " 'Research Data Analyst 1',\n",
       " 'Jr. Data Analyst',\n",
       " 'Business Intelligence Analyst 4',\n",
       " 'Programmer Analyst I/II']"
      ]
     },
     "execution_count": 4,
     "metadata": {},
     "output_type": "execute_result"
    }
   ],
   "source": [
    "def extract_job_title_from_result(soup): \n",
    "    jobs = []\n",
    "    for td in soup.find_all(name='td', attrs={'class':'resultContent'}):\n",
    "        for div in td.find_all(name='div', attrs={'class':'heading4 color-text-primary singleLineTitle tapItem-gutter'}):\n",
    "            for span in div.find_all(name='span'):\n",
    "                    if span.text.strip() != 'new':\n",
    "                        jobs.append(span.text.strip())      \n",
    "    return(jobs)\n",
    "extract_job_title_from_result(soup)\n"
   ]
  },
  {
   "cell_type": "markdown",
   "metadata": {},
   "source": [
    "### Company Name"
   ]
  },
  {
   "cell_type": "code",
   "execution_count": 5,
   "metadata": {},
   "outputs": [
    {
     "data": {
      "text/plain": [
       "['Vicious Offroad',\n",
       " 'Computershare',\n",
       " 'UCLA Health',\n",
       " 'AppleOne',\n",
       " 'Cisco Systems',\n",
       " 'Disney Streaming Services',\n",
       " 'CyberCoders',\n",
       " 'CyberCoders',\n",
       " 'Dental Views',\n",
       " 'YMCA of San Diego County',\n",
       " 'Deckers Brands',\n",
       " 'Stanford University',\n",
       " 'Health Advocates',\n",
       " 'Adobe',\n",
       " 'Merced County, CA']"
      ]
     },
     "execution_count": 5,
     "metadata": {},
     "output_type": "execute_result"
    }
   ],
   "source": [
    "def extract_company_name_from_result(soup): \n",
    "    companies = []\n",
    "    for td in soup.find_all(name='td', attrs={'class':'resultContent'}):\n",
    "        for div in td.find_all(name='div', attrs={'class':'heading6 company_location tapItem-gutter'}):\n",
    "            for span in div.find_all(name='span', attrs={'class':'companyName'}):\n",
    "                companies.append(span.text.strip())                      \n",
    "    return(companies)\n",
    "extract_company_name_from_result(soup)"
   ]
  },
  {
   "cell_type": "markdown",
   "metadata": {},
   "source": [
    "### Location"
   ]
  },
  {
   "cell_type": "code",
   "execution_count": 6,
   "metadata": {},
   "outputs": [
    {
     "data": {
      "text/plain": [
       "['Ontario, CA 91764•Temporarily Remote',\n",
       " 'United States•Remote',\n",
       " 'Los Angeles, CA 90095',\n",
       " 'Folsom, CA 95630',\n",
       " 'San Jose, CA',\n",
       " 'Burbank, CA',\n",
       " 'Inglewood, CA 90301',\n",
       " 'Los Angeles, CA 90017',\n",
       " 'Riverside, CA',\n",
       " 'San Diego, CA',\n",
       " 'Goleta, CA 93117•Remote',\n",
       " 'Stanford, CA',\n",
       " 'Chatsworth, CA 91311',\n",
       " 'San Jose, CA',\n",
       " 'Merced, CA 95340']"
      ]
     },
     "execution_count": 6,
     "metadata": {},
     "output_type": "execute_result"
    }
   ],
   "source": [
    "def extract_location_from_result(soup): \n",
    "    locations = []\n",
    "    for td in soup.find_all(name='td', attrs={'class':'resultContent'}):\n",
    "        for div in td.find_all(name='div', attrs={'class':'heading6 company_location tapItem-gutter'}):\n",
    "            for div in div.find_all(name='div'):\n",
    "                locations.append(div.text.strip())                    \n",
    "    return(locations)\n",
    "extract_location_from_result(soup)"
   ]
  },
  {
   "cell_type": "markdown",
   "metadata": {},
   "source": [
    "### Job Summary"
   ]
  },
  {
   "cell_type": "code",
   "execution_count": 7,
   "metadata": {},
   "outputs": [
    {
     "data": {
      "text/plain": [
       "['Works with data sources to pull new and existing brand data.\\nArrange product data to display correctly on the website.\\n2 – 4 years of related experience.',\n",
       " '1 year of experience in data analysis or the application of data analytics, preferably within the mortgage servicing industry.\\nPaid time away from work.',\n",
       " 'The analyst will assist with AR reconciliation, insurance contracting, audit of weekly claims exceptions etc.\\nAbility to review, analyze and present reports and…',\n",
       " \"?Bachelor's degree in mathematics, accounting or economics, a master's degree would be an added advantage.\",\n",
       " 'Assess the effectiveness and accuracy of new data sources and data gathering techniques.\\nPartner and lead cross-functional teams to realize data relationships…',\n",
       " '1-3 years of equivalent experience as an analyst in a data and analytics domain, in a professional or academic setting.',\n",
       " 'Write scripts to analyze data and perform specific data queries.\\nHighly detail oriented to write SQL programs and monitor data.',\n",
       " 'This is a full-time/permanent position, direct-hire with my client.\\nIdeal candidate has experience with A/B testing, GTM, and Google Analytics.',\n",
       " 'Creates actionable insights and understanding, through the analysis of both quantitative and qualitative data, building recommendations that directly address…',\n",
       " 'Develop and maintain data dictionaries and other data management documents (fidelity check lists, data plans and specifications, etc.) to support teams with…',\n",
       " 'Analyze data to unearth insights and develop data visualizations to facilitate decision making.\\nCreate data sources in Tableau to support reporting for internal…',\n",
       " 'Analyze data processes in documentation.\\nUse system reports and analyses to identify potentially problematic data, make corrections, and determine root cause…',\n",
       " 'Job responsibilities include: preparing daily, weekly, monthly, and quarterly reports via Excel and SQL, interpreting and analyzing data from primary and…',\n",
       " 'Leverage global reporting, analysis, and business modeling to translate data into insights to proactively drive action.',\n",
       " 'Frequent use of data entry device including repetitive hand and arm motion.\\nAnalyze data, interpret directions, procedures and regulations, and develop…']"
      ]
     },
     "execution_count": 7,
     "metadata": {},
     "output_type": "execute_result"
    }
   ],
   "source": [
    "def extract_summary_from_result(soup): \n",
    "    summaries = []\n",
    "    divs = soup.findAll('div', attrs={'class': 'job-snippet'})\n",
    "    for div in divs:\n",
    "        summaries.append(div.text.strip())\n",
    "    return(summaries)\n",
    "extract_summary_from_result(soup)"
   ]
  },
  {
   "cell_type": "code",
   "execution_count": null,
   "metadata": {},
   "outputs": [],
   "source": []
  },
  {
   "cell_type": "code",
   "execution_count": null,
   "metadata": {},
   "outputs": [],
   "source": []
  },
  {
   "cell_type": "code",
   "execution_count": null,
   "metadata": {},
   "outputs": [],
   "source": []
  },
  {
   "cell_type": "code",
   "execution_count": null,
   "metadata": {},
   "outputs": [],
   "source": []
  },
  {
   "cell_type": "markdown",
   "metadata": {},
   "source": [
    "### Job Type"
   ]
  },
  {
   "cell_type": "code",
   "execution_count": null,
   "metadata": {},
   "outputs": [],
   "source": []
  },
  {
   "cell_type": "code",
   "execution_count": null,
   "metadata": {},
   "outputs": [],
   "source": []
  },
  {
   "cell_type": "markdown",
   "metadata": {},
   "source": [
    "### Job Details"
   ]
  },
  {
   "cell_type": "code",
   "execution_count": null,
   "metadata": {},
   "outputs": [],
   "source": []
  },
  {
   "cell_type": "code",
   "execution_count": null,
   "metadata": {},
   "outputs": [],
   "source": []
  },
  {
   "cell_type": "code",
   "execution_count": null,
   "metadata": {},
   "outputs": [],
   "source": []
  },
  {
   "cell_type": "markdown",
   "metadata": {},
   "source": [
    "### Job Description"
   ]
  },
  {
   "cell_type": "code",
   "execution_count": null,
   "metadata": {},
   "outputs": [],
   "source": []
  },
  {
   "cell_type": "code",
   "execution_count": null,
   "metadata": {},
   "outputs": [],
   "source": []
  },
  {
   "cell_type": "markdown",
   "metadata": {},
   "source": [
    "### Temp area"
   ]
  },
  {
   "cell_type": "code",
   "execution_count": null,
   "metadata": {},
   "outputs": [],
   "source": []
  }
 ],
 "metadata": {
  "kernelspec": {
   "display_name": "Python 3",
   "language": "python",
   "name": "python3"
  },
  "language_info": {
   "codemirror_mode": {
    "name": "ipython",
    "version": 3
   },
   "file_extension": ".py",
   "mimetype": "text/x-python",
   "name": "python",
   "nbconvert_exporter": "python",
   "pygments_lexer": "ipython3",
   "version": "3.8.5"
  }
 },
 "nbformat": 4,
 "nbformat_minor": 4
}
