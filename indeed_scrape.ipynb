{
 "cells": [
  {
   "cell_type": "code",
   "execution_count": 59,
   "metadata": {},
   "outputs": [],
   "source": [
    "# The indeed URL format is the following:\n",
    "# https://www.indeed.com/jobs?q=data%20analyst&l=California&start=0\n",
    "# https://www.indeed.com/jobs?q=data%20analyst&l=California&start=10\n",
    "# https://www.indeed.com/jobs?q=data%20analyst&l=California&start=20\n",
    "# etc."
   ]
  },
  {
   "cell_type": "code",
   "execution_count": 19,
   "metadata": {},
   "outputs": [],
   "source": [
    "import requests\n",
    "import bs4\n",
    "from bs4 import BeautifulSoup as bs\n",
    "import pandas as pd\n",
    "from splinter import Browser\n",
    "import os\n",
    "from webdriver_manager.chrome import ChromeDriverManager\n",
    "import time"
   ]
  },
  {
   "cell_type": "code",
   "execution_count": 26,
   "metadata": {},
   "outputs": [
    {
     "name": "stderr",
     "output_type": "stream",
     "text": [
      "\n",
      "\n",
      "====== WebDriver manager ======\n",
      "Current google-chrome version is 92.0.4515\n",
      "Get LATEST driver version for 92.0.4515\n",
      "Driver [C:\\Users\\SC\\.wdm\\drivers\\chromedriver\\win32\\92.0.4515.107\\chromedriver.exe] found in cache\n"
     ]
    }
   ],
   "source": [
    "executable_path = {'executable_path': ChromeDriverManager().install()}\n",
    "browser = Browser('chrome', **executable_path, headless=False)"
   ]
  },
  {
   "cell_type": "code",
   "execution_count": 28,
   "metadata": {},
   "outputs": [],
   "source": [
    "URL = \"https://www.indeed.com/jobs?q=data%20analyst&l=California&start=0\""
   ]
  },
  {
   "cell_type": "code",
   "execution_count": 29,
   "metadata": {},
   "outputs": [],
   "source": [
    "browser.visit(URL)"
   ]
  },
  {
   "cell_type": "markdown",
   "metadata": {},
   "source": [
    "### Job Title"
   ]
  },
  {
   "cell_type": "code",
   "execution_count": 59,
   "metadata": {
    "scrolled": true
   },
   "outputs": [
    {
     "data": {
      "text/plain": [
       "['Data Analyst',\n",
       " 'Data Analyst – SQL',\n",
       " 'Product Data Analyst',\n",
       " 'Data Analyst (SQL and JavaScript skills)',\n",
       " 'Data Analyst I',\n",
       " 'Data Analyst needed ASAP!!',\n",
       " 'Jr. Data Analyst',\n",
       " 'Senior Data Analyst',\n",
       " 'Data Analyst, Reconciliation',\n",
       " 'Programmer Analyst I/II',\n",
       " 'Data Visualization Analyst',\n",
       " 'DreamWorks Technology - Data Analyst',\n",
       " 'Associate Analyst, Data Analytics',\n",
       " 'Data Analyst (Full Time) United States',\n",
       " 'Sr. Associate Data Analyst']"
      ]
     },
     "execution_count": 59,
     "metadata": {},
     "output_type": "execute_result"
    }
   ],
   "source": [
    "def extract_job_title_from_result(soup): \n",
    "    jobs = []\n",
    "    for td in soup.find_all(name='td', attrs={'class':'resultContent'}):\n",
    "        for div in td.find_all(name='div', attrs={'class':'heading4 color-text-primary singleLineTitle tapItem-gutter'}):\n",
    "            for span in div.find_all(name='span'):\n",
    "                    if span.text.strip() != 'new':\n",
    "                        jobs.append(span.text.strip())      \n",
    "    return(jobs)\n",
    "extract_job_title_from_result(soup)\n"
   ]
  },
  {
   "cell_type": "markdown",
   "metadata": {},
   "source": [
    "### Company Name"
   ]
  },
  {
   "cell_type": "code",
   "execution_count": 51,
   "metadata": {},
   "outputs": [
    {
     "data": {
      "text/plain": [
       "['Tetra Tech Inc.',\n",
       " 'Vista Community Clinic',\n",
       " 'Vicious Offroad',\n",
       " 'Webhelp Americas',\n",
       " 'Computershare',\n",
       " 'AppleOne',\n",
       " 'Deckers Brands',\n",
       " 'FocusKPI Inc.',\n",
       " 'Square',\n",
       " 'Merced County, CA',\n",
       " 'California State University',\n",
       " 'NBCUniversal',\n",
       " 'Edwards Lifesciences',\n",
       " 'Cisco Systems',\n",
       " 'Amgen']"
      ]
     },
     "execution_count": 51,
     "metadata": {},
     "output_type": "execute_result"
    }
   ],
   "source": [
    "def extract_company_name_from_result(soup): \n",
    "    companies = []\n",
    "    for td in soup.find_all(name='td', attrs={'class':'resultContent'}):\n",
    "        for div in td.find_all(name='div', attrs={'class':'heading6 company_location tapItem-gutter'}):\n",
    "            for span in div.find_all(name='span', attrs={'class':'companyName'}):\n",
    "                companies.append(span.text.strip())                      \n",
    "    return(companies)\n",
    "extract_company_name_from_result(soup)"
   ]
  },
  {
   "cell_type": "markdown",
   "metadata": {},
   "source": [
    "### Location"
   ]
  },
  {
   "cell_type": "code",
   "execution_count": 32,
   "metadata": {},
   "outputs": [
    {
     "data": {
      "text/plain": [
       "['Chico, CA',\n",
       " 'Vista, CA 92084',\n",
       " 'Ontario, CA 91764•Temporarily Remote',\n",
       " 'San Jose, CA•Temporarily Remote',\n",
       " 'United States•Remote',\n",
       " 'Folsom, CA 95630',\n",
       " 'Goleta, CA 93117•Remote',\n",
       " 'San Francisco Bay Area, CA',\n",
       " 'San Francisco, CA',\n",
       " 'Merced, CA 95340',\n",
       " 'San Jose, CA',\n",
       " 'Glendale, CA',\n",
       " 'Irvine, CA',\n",
       " 'San Jose, CA',\n",
       " 'Thousand Oaks, CA']"
      ]
     },
     "execution_count": 32,
     "metadata": {},
     "output_type": "execute_result"
    }
   ],
   "source": [
    "def extract_location_from_result(soup): \n",
    "    locations = []\n",
    "    for td in soup.find_all(name='td', attrs={'class':'resultContent'}):\n",
    "        for div in td.find_all(name='div', attrs={'class':'heading6 company_location tapItem-gutter'}):\n",
    "            for div in div.find_all(name='div'):\n",
    "                try:\n",
    "                    locations.append(div.text.strip())\n",
    "                except:\n",
    "                    locations.append(\"Nothing_found\")        \n",
    "    return(locations)\n",
    "extract_location_from_result(soup)"
   ]
  },
  {
   "cell_type": "markdown",
   "metadata": {},
   "source": [
    "### Job Summary"
   ]
  },
  {
   "cell_type": "code",
   "execution_count": 64,
   "metadata": {},
   "outputs": [
    {
     "data": {
      "text/plain": [
       "['The successful candidate will have extraordinary attention to minute detail and be responsible for executing and overseeing daily administrative, data entry,…',\n",
       " 'Experience with multidimensional data warehouses and data programming.\\nMultidimensional data warehouses and data programming: 1 year (Required).',\n",
       " 'Works with data sources to pull new and existing brand data.\\nArrange product data to display correctly on the website.\\n2 – 4 years of related experience.',\n",
       " 'Strong grasp on data structure and data integrity issues.\\nAttention to detail and work ethic for dealing with a variety of data issues.',\n",
       " '1 year of experience in data analysis or the application of data analytics, preferably within the mortgage servicing industry.\\nPaid time away from work.',\n",
       " \"?Bachelor's degree in mathematics, accounting or economics, a master's degree would be an added advantage.\",\n",
       " 'Analyze data to unearth insights and develop data visualizations to facilitate decision making.\\nCreate data sources in Tableau to support reporting for internal…',\n",
       " 'The ideal candidate is an intelligent, sharp, detail-oriented, and highly quantitative individual who loves working with and analyzing data.',\n",
       " 'Translate requirements into applicable data requirements.\\n4+ years of experience solving complex data problems.\\nExperience with Linux/OSX command line and git.',\n",
       " 'Frequent use of data entry device including repetitive hand and arm motion.\\nAnalyze data, interpret directions, procedures and regulations, and develop…',\n",
       " 'Experience with writing scripts to analyze data and perform data queries, creating reports with quantitative modeling, detail-oriented approach to data…',\n",
       " 'Present data analysis findings and/or translate data into an understandable document or dashboard.\\nStrong SQL with experience in querying large, complex data…',\n",
       " 'Good knowledge and understanding of Edwards policies, procedures and guidelines relevant to data analytics.\\nBuild routine quantitative models and/or tools with…',\n",
       " 'Assess the effectiveness and accuracy of new data sources and data gathering techniques.\\nPartner and lead cross-functional teams to realize data relationships…',\n",
       " 'Assist with data discovery for enhancing reports and designing efficient data stores.\\nCollaborate cross-functionally with analysts, engineers, to identify &…']"
      ]
     },
     "execution_count": 64,
     "metadata": {},
     "output_type": "execute_result"
    }
   ],
   "source": [
    "def extract_summary_from_result(soup): \n",
    "    summaries = []\n",
    "    divs = soup.findAll('div', attrs={'class': 'job-snippet'})\n",
    "    for div in divs:\n",
    "        summaries.append(div.text.strip())\n",
    "    return(summaries)\n",
    "extract_summary_from_result(soup)"
   ]
  },
  {
   "cell_type": "code",
   "execution_count": null,
   "metadata": {},
   "outputs": [],
   "source": []
  },
  {
   "cell_type": "code",
   "execution_count": null,
   "metadata": {},
   "outputs": [],
   "source": []
  },
  {
   "cell_type": "code",
   "execution_count": null,
   "metadata": {},
   "outputs": [],
   "source": []
  },
  {
   "cell_type": "code",
   "execution_count": null,
   "metadata": {},
   "outputs": [],
   "source": []
  },
  {
   "cell_type": "markdown",
   "metadata": {},
   "source": [
    "### Job Type"
   ]
  },
  {
   "cell_type": "code",
   "execution_count": null,
   "metadata": {},
   "outputs": [],
   "source": []
  },
  {
   "cell_type": "code",
   "execution_count": null,
   "metadata": {},
   "outputs": [],
   "source": []
  },
  {
   "cell_type": "markdown",
   "metadata": {},
   "source": [
    "### Job Details"
   ]
  },
  {
   "cell_type": "code",
   "execution_count": null,
   "metadata": {},
   "outputs": [],
   "source": []
  },
  {
   "cell_type": "code",
   "execution_count": null,
   "metadata": {},
   "outputs": [],
   "source": []
  },
  {
   "cell_type": "code",
   "execution_count": null,
   "metadata": {},
   "outputs": [],
   "source": []
  },
  {
   "cell_type": "markdown",
   "metadata": {},
   "source": [
    "### Job Description"
   ]
  },
  {
   "cell_type": "code",
   "execution_count": null,
   "metadata": {},
   "outputs": [],
   "source": []
  },
  {
   "cell_type": "code",
   "execution_count": null,
   "metadata": {},
   "outputs": [],
   "source": []
  },
  {
   "cell_type": "markdown",
   "metadata": {},
   "source": [
    "### Temp area"
   ]
  }
 ],
 "metadata": {
  "kernelspec": {
   "display_name": "Python 3",
   "language": "python",
   "name": "python3"
  },
  "language_info": {
   "codemirror_mode": {
    "name": "ipython",
    "version": 3
   },
   "file_extension": ".py",
   "mimetype": "text/x-python",
   "name": "python",
   "nbconvert_exporter": "python",
   "pygments_lexer": "ipython3",
   "version": "3.8.5"
  }
 },
 "nbformat": 4,
 "nbformat_minor": 4
}
