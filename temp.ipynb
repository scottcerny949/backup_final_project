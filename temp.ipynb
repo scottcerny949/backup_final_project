{
 "cells": [
  {
   "cell_type": "code",
   "execution_count": 1,
   "metadata": {},
   "outputs": [],
   "source": [
    "import requests\n",
    "import bs4\n",
    "from bs4 import BeautifulSoup as bs\n",
    "import pandas as pd\n",
    "from splinter import Browser\n",
    "import os\n",
    "from webdriver_manager.chrome import ChromeDriverManager\n",
    "import time"
   ]
  },
  {
   "cell_type": "code",
   "execution_count": null,
   "metadata": {},
   "outputs": [],
   "source": [
    "executable_path = {'executable_path': ChromeDriverManager().install()}\n",
    "browser = Browser('chrome', **executable_path, headless=False)"
   ]
  },
  {
   "cell_type": "code",
   "execution_count": null,
   "metadata": {},
   "outputs": [],
   "source": [
    "# URL = \"https://www.indeed.com/jobs?q=data%20analyst&l=California&start=0\"\n",
    "# page = requests.get(URL)\n",
    "# soup = bs(page.text, \"html.parser\")\n",
    "# print(soup.prettify())"
   ]
  },
  {
   "cell_type": "code",
   "execution_count": null,
   "metadata": {},
   "outputs": [],
   "source": [
    "# soup.find(\"h2\", class_=\"jobTitle jobTitle-color-purple\").get_text()"
   ]
  },
  {
   "cell_type": "code",
   "execution_count": null,
   "metadata": {},
   "outputs": [],
   "source": [
    "# soup.find(\"span\", class_=\"companyName\").get_text()"
   ]
  },
  {
   "cell_type": "code",
   "execution_count": null,
   "metadata": {},
   "outputs": [],
   "source": [
    "URL = \"https://www.indeed.com/jobs?q=data%20analyst&l=California&start=0\""
   ]
  },
  {
   "cell_type": "code",
   "execution_count": null,
   "metadata": {},
   "outputs": [],
   "source": [
    "browser.visit(URL)"
   ]
  },
  {
   "cell_type": "code",
   "execution_count": null,
   "metadata": {},
   "outputs": [],
   "source": [
    "# html = browser.html\n",
    "# # Parse HTML with Beautiful Soup\n",
    "# soup = bs(html, 'html.parser')\n",
    "# # Retrieve all elements that contain book information\n",
    "# jobs = soup.find_all('td', class_='resultContent')\n",
    "\n",
    "# # Iterate through each \n",
    "# for job in jobs:\n",
    "#     # Use Beautiful Soup's find() method to navigate and retrieve attributes\n",
    "#     div = job.find('div')\n",
    "#     h2 = div.find('h2')\n",
    "#     span = h2.find('span')\n",
    "#     jobtitle = span['title']\n",
    "#     print('-----------')\n",
    "#     print(jobtitle)\n"
   ]
  },
  {
   "cell_type": "code",
   "execution_count": null,
   "metadata": {},
   "outputs": [],
   "source": [
    "def extract_job_title_from_result(soup): \n",
    "    jobs = []\n",
    "    for td in soup.find_all(name='td', attrs={'class':'resultContent'}):\n",
    "        for div in td.find_all(name='div', attrs={'class':'heading4 color-text-primary singleLineTitle tapItem-gutter'}):\n",
    "            for span in div.find_all(name='span'):\n",
    "                    if span.text.strip() != 'new':\n",
    "                        jobs.append(span.text.strip())      \n",
    "    return(jobs)\n",
    "extract_job_title_from_result(soup)"
   ]
  },
  {
   "cell_type": "code",
   "execution_count": null,
   "metadata": {},
   "outputs": [],
   "source": [
    "def extract_company_name_from_result(soup): \n",
    "    companies = []\n",
    "    for td in soup.find_all(name='td', attrs={'class':'resultContent'}):\n",
    "        for div in td.find_all(name='div', attrs={'class':'heading6 company_location tapItem-gutter'}):\n",
    "            for span in div.find_all(name='span', attrs={'class':'companyName'}):\n",
    "                companies.append(span.text.strip())                      \n",
    "    return(companies)\n",
    "extract_company_name_from_result(soup)"
   ]
  },
  {
   "cell_type": "code",
   "execution_count": null,
   "metadata": {},
   "outputs": [],
   "source": [
    "def extract_location_from_result(soup): \n",
    "    locations = []\n",
    "    for td in soup.find_all(name='td', attrs={'class':'resultContent'}):\n",
    "        for div in td.find_all(name='div', attrs={'class':'heading6 company_location tapItem-gutter'}):\n",
    "            for div in div.find_all(name='div'):\n",
    "                try:\n",
    "                    locations.append(div.text.strip())\n",
    "                except:\n",
    "                    locations.append(\"Nothing_found\")        \n",
    "    return(locations)\n",
    "extract_location_from_result(soup)"
   ]
  },
  {
   "cell_type": "code",
   "execution_count": null,
   "metadata": {},
   "outputs": [],
   "source": [
    "def extract_summary_from_result(soup): \n",
    "    summaries = []\n",
    "    divs = soup.findAll('div', attrs={'class': 'job-snippet'})\n",
    "    for div in divs:\n",
    "        summaries.append(div.text.strip())\n",
    "    return(summaries)\n",
    "extract_summary_from_result(soup)"
   ]
  },
  {
   "cell_type": "markdown",
   "metadata": {},
   "source": [
    "### temp area"
   ]
  },
  {
   "cell_type": "code",
   "execution_count": null,
   "metadata": {},
   "outputs": [],
   "source": [
    "def extract_job_title_from_result(soup): \n",
    "    jobs = []\n",
    "    for td in soup.find_all(name='td', attrs={'class':'resultContent'}):\n",
    "        for div in td.find_all(name='div', attrs={'class':'heading4 color-text-primary singleLineTitle tapItem-gutter'}):\n",
    "            #for h2 in div.find_all(name='h2', attrs={'class':'jobTitle jobTitle-color-purple'}):\n",
    "                if div.text.strip() != 'new':\n",
    "                    jobs.append(div.text.strip())                                       \n",
    "    return(jobs)\n",
    "extract_job_title_from_result(soup)"
   ]
  },
  {
   "cell_type": "code",
   "execution_count": null,
   "metadata": {},
   "outputs": [],
   "source": [
    "def extract_job_title_from_result(soup): \n",
    "    jobs = []\n",
    "    for td in soup.find_all(name='td', attrs={'class':'resultContent'}):\n",
    "        for div in td.find_all(name='div', attrs={'class':'heading4 color-text-primary singleLineTitle tapItem-gutter'}):\n",
    "            #for h2 in div.find_all(name='h2', attrs={'class':'jobTitle jobTitle-color-purple'}):\n",
    "                for span in div.find_all(name='span'):\n",
    "                    if span.text.strip() != 'new':\n",
    "                        jobs.append(span.text.strip())                                       \n",
    "    return(jobs)\n",
    "extract_job_title_from_result(soup)"
   ]
  },
  {
   "cell_type": "code",
   "execution_count": null,
   "metadata": {},
   "outputs": [],
   "source": [
    "def extract_company_name_from_result(soup): \n",
    "    companies = []\n",
    "    for td in soup.find_all(name='td', attrs={'class':'resultContent'}):\n",
    "        for div in td.find_all(name='div', attrs={'class':'heading6 company_location tapItem-gutter'}):\n",
    "            for span in div.find_all(name='span', attrs={'class':'companyName'}):\n",
    "                for a in span.find_all(name='a'):\n",
    "                    companies.append(span.text.strip())                      \n",
    "    return(companies)\n",
    "extract_company_name_from_result(soup)"
   ]
  },
  {
   "cell_type": "code",
   "execution_count": null,
   "metadata": {},
   "outputs": [],
   "source": [
    "def extract_location_from_result(soup): \n",
    "    locations = []\n",
    "    for td in soup.find_all(name='td', attrs={'class':'resultContent'}):\n",
    "        for div in td.find_all(name='div', attrs={'class':'heading6 company_location tapItem-gutter'}):\n",
    "            for div in div.find_all(name='div'):\n",
    "                try:\n",
    "                    locations.append(div.text.strip())\n",
    "                except:\n",
    "                    locations.append(\"Nothing_found\")        \n",
    "    return(locations)\n",
    "extract_location_from_result(soup)"
   ]
  }
 ],
 "metadata": {
  "kernelspec": {
   "display_name": "Python 3",
   "language": "python",
   "name": "python3"
  },
  "language_info": {
   "codemirror_mode": {
    "name": "ipython",
    "version": 3
   },
   "file_extension": ".py",
   "mimetype": "text/x-python",
   "name": "python",
   "nbconvert_exporter": "python",
   "pygments_lexer": "ipython3",
   "version": "3.8.5"
  }
 },
 "nbformat": 4,
 "nbformat_minor": 4
}
